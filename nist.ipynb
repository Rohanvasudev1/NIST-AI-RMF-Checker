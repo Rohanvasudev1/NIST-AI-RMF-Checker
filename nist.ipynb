{
 "cells": [
  {
   "cell_type": "code",
   "execution_count": null,
   "metadata": {},
   "outputs": [
    {
     "name": "stdout",
     "output_type": "stream",
     "text": [
      "{\n",
      "  \"created\": 1738652691,\n",
      "  \"model\": \"llama3.1-70b\",\n",
      "  \"usage\": {\n",
      "    \"prompt_tokens\": 327,\n",
      "    \"completion_tokens\": 239,\n",
      "    \"total_tokens\": 566\n",
      "  },\n",
      "  \"choices\": [\n",
      "    {\n",
      "      \"finish_reason\": \"eos\",\n",
      "      \"index\": 0,\n",
      "      \"logprobs\": null,\n",
      "      \"message\": {\n",
      "        \"content\": \"I'm an AI and do not have real-time access to current weather conditions. However, I can suggest some ways for you to find out the current weather in Boston.\\n\\nYou can check the weather in Boston by:\\n\\n1. Visiting a weather website such as weather.com or accuweather.com.\\n2. Using a mobile app such as Dark Sky or Weather Underground.\\n3. Checking the National Weather Service (NWS) website for the Boston area.\\n4. Searching for \\\"Boston weather\\\" on a search engine like Google.\\n\\nPlease note that the weather can change rapidly, so it's always a good idea to check multiple sources for the most up-to-date information.\\n\\nIf you're looking for general information about Boston's climate, Boston has a humid continental climate with cold winters and warm summers. The average temperature in January, the coldest month, is around 24\\u00b0F (-4\\u00b0C), while the average temperature in July, the warmest month, is around 73\\u00b0F (23\\u00b0C).\",\n",
      "        \"refusal\": null,\n",
      "        \"role\": \"assistant\",\n",
      "        \"audio\": null,\n",
      "        \"function_call\": null,\n",
      "        \"tool_calls\": null\n",
      "      }\n",
      "    }\n",
      "  ]\n",
      "}\n"
     ]
    }
   ],
   "source": [
    "\n",
    "# Initialize the SDK\n",
    "llama = LlamaAPI(\"\")\n",
    "\n",
    "# Build the API request\n",
    "api_request_json = {\n",
    "    \"model\": \"llama3.1-70b\",\n",
    "    \"messages\": [\n",
    "        {\"role\": \"user\", \"content\": \"What is the weather like in Boston?\"},\n",
    "    ],\n",
    "    \"functions\": [\n",
    "        {\n",
    "            \"name\": \"get_current_weather\",\n",
    "            \"description\": \"Get the current weather in a given location\",\n",
    "            \"parameters\": {\n",
    "                \"type\": \"object\",\n",
    "                \"properties\": {\n",
    "                    \"location\": {\n",
    "                        \"type\": \"string\",\n",
    "                        \"description\": \"The city and state, e.g. San Francisco, CA\",\n",
    "                    },\n",
    "                    \"days\": {\n",
    "                        \"type\": \"number\",\n",
    "                        \"description\": \"for how many days ahead you wants the forecast\",\n",
    "                    },\n",
    "                    \"unit\": {\"type\": \"string\", \"enum\": [\"celsius\", \"fahrenheit\"]},\n",
    "                },\n",
    "            },\n",
    "            \"required\": [\"location\", \"days\"],\n",
    "        }\n",
    "    ],\n",
    "    \"stream\": False,\n",
    "    \"function_call\": \"get_current_weather\",\n",
    "}\n",
    "\n",
    "# Execute the Request\n",
    "response = llama.run(api_request_json)\n",
    "print(json.dumps(response.json(), indent=2))"
   ]
  },
  {
   "cell_type": "code",
   "execution_count": 2,
   "metadata": {},
   "outputs": [],
   "source": []
  },
  {
   "cell_type": "code",
   "execution_count": null,
   "metadata": {},
   "outputs": [],
   "source": []
  }
 ],
 "metadata": {
  "kernelspec": {
   "display_name": "cse158",
   "language": "python",
   "name": "python3"
  },
  "language_info": {
   "codemirror_mode": {
    "name": "ipython",
    "version": 3
   },
   "file_extension": ".py",
   "mimetype": "text/x-python",
   "name": "python",
   "nbconvert_exporter": "python",
   "pygments_lexer": "ipython3",
   "version": "3.12.2"
  }
 },
 "nbformat": 4,
 "nbformat_minor": 2
}
